{
  "nbformat": 4,
  "nbformat_minor": 0,
  "metadata": {
    "colab": {
      "name": "HCMLC – MACHINE LEARNING APLICADO A CIBERSEGURIDAD.ipynb",
      "version": "0.3.2",
      "provenance": [],
      "collapsed_sections": [],
      "include_colab_link": true
    },
    "kernelspec": {
      "name": "python3",
      "display_name": "Python 3"
    },
    "accelerator": "TPU"
  },
  "cells": [
    {
      "cell_type": "markdown",
      "metadata": {
        "id": "view-in-github",
        "colab_type": "text"
      },
      "source": [
        "<a href=\"https://colab.research.google.com/github/ocuil/machine-learning/blob/master/HCMLC_%E2%80%93_MACHINE_LEARNING_APLICADO_A_CIBERSEGURIDAD.ipynb\" target=\"_parent\"><img src=\"https://colab.research.google.com/assets/colab-badge.svg\" alt=\"Open In Colab\"/></a>"
      ]
    },
    {
      "metadata": {
        "id": "noVQ2m1oICO6",
        "colab_type": "text"
      },
      "cell_type": "markdown",
      "source": [
        "Hace uso de las fuentes en https://github.com/oreilly-mlsec/book-resources\n"
      ]
    },
    {
      "metadata": {
        "id": "MVgKPqm0ucxd",
        "colab_type": "code",
        "outputId": "2562cdbc-0924-4c9f-a2df-9e9093484519",
        "colab": {
          "base_uri": "https://localhost:8080/",
          "height": 142
        }
      },
      "cell_type": "code",
      "source": [
        "import pandas as pd\n",
        "df = pd.read_csv('/content/payment_fraud.csv')\n",
        "df.sample(3)\n"
      ],
      "execution_count": 0,
      "outputs": [
        {
          "output_type": "execute_result",
          "data": {
            "text/html": [
              "<div>\n",
              "<style scoped>\n",
              "    .dataframe tbody tr th:only-of-type {\n",
              "        vertical-align: middle;\n",
              "    }\n",
              "\n",
              "    .dataframe tbody tr th {\n",
              "        vertical-align: top;\n",
              "    }\n",
              "\n",
              "    .dataframe thead th {\n",
              "        text-align: right;\n",
              "    }\n",
              "</style>\n",
              "<table border=\"1\" class=\"dataframe\">\n",
              "  <thead>\n",
              "    <tr style=\"text-align: right;\">\n",
              "      <th></th>\n",
              "      <th>accountAgeDays</th>\n",
              "      <th>numItems</th>\n",
              "      <th>localTime</th>\n",
              "      <th>paymentMethod</th>\n",
              "      <th>paymentMethodAgeDays</th>\n",
              "      <th>label</th>\n",
              "    </tr>\n",
              "  </thead>\n",
              "  <tbody>\n",
              "    <tr>\n",
              "      <th>29472</th>\n",
              "      <td>11</td>\n",
              "      <td>2</td>\n",
              "      <td>4.921349</td>\n",
              "      <td>creditcard</td>\n",
              "      <td>0.000000</td>\n",
              "      <td>0</td>\n",
              "    </tr>\n",
              "    <tr>\n",
              "      <th>17818</th>\n",
              "      <td>1489</td>\n",
              "      <td>1</td>\n",
              "      <td>4.886641</td>\n",
              "      <td>creditcard</td>\n",
              "      <td>0.005556</td>\n",
              "      <td>0</td>\n",
              "    </tr>\n",
              "    <tr>\n",
              "      <th>13442</th>\n",
              "      <td>870</td>\n",
              "      <td>1</td>\n",
              "      <td>4.876771</td>\n",
              "      <td>creditcard</td>\n",
              "      <td>0.000000</td>\n",
              "      <td>0</td>\n",
              "    </tr>\n",
              "  </tbody>\n",
              "</table>\n",
              "</div>"
            ],
            "text/plain": [
              "       accountAgeDays  numItems  localTime paymentMethod  \\\n",
              "29472              11         2   4.921349    creditcard   \n",
              "17818            1489         1   4.886641    creditcard   \n",
              "13442             870         1   4.876771    creditcard   \n",
              "\n",
              "       paymentMethodAgeDays  label  \n",
              "29472              0.000000      0  \n",
              "17818              0.005556      0  \n",
              "13442              0.000000      0  "
            ]
          },
          "metadata": {
            "tags": []
          },
          "execution_count": 3
        }
      ]
    },
    {
      "metadata": {
        "id": "MEo8a0enyGLE",
        "colab_type": "code",
        "outputId": "4f81b229-78a0-40b4-86a8-de8cedfc7e8d",
        "colab": {
          "base_uri": "https://localhost:8080/",
          "height": 142
        }
      },
      "cell_type": "code",
      "source": [
        "df = pd.read_csv('/content/payment_fraud.csv')\n",
        "df = pd.get_dummies(df, columns=['paymentMethod'])\n",
        "df.sample(3)"
      ],
      "execution_count": 0,
      "outputs": [
        {
          "output_type": "execute_result",
          "data": {
            "text/html": [
              "<div>\n",
              "<style scoped>\n",
              "    .dataframe tbody tr th:only-of-type {\n",
              "        vertical-align: middle;\n",
              "    }\n",
              "\n",
              "    .dataframe tbody tr th {\n",
              "        vertical-align: top;\n",
              "    }\n",
              "\n",
              "    .dataframe thead th {\n",
              "        text-align: right;\n",
              "    }\n",
              "</style>\n",
              "<table border=\"1\" class=\"dataframe\">\n",
              "  <thead>\n",
              "    <tr style=\"text-align: right;\">\n",
              "      <th></th>\n",
              "      <th>accountAgeDays</th>\n",
              "      <th>numItems</th>\n",
              "      <th>localTime</th>\n",
              "      <th>paymentMethodAgeDays</th>\n",
              "      <th>label</th>\n",
              "      <th>paymentMethod_creditcard</th>\n",
              "      <th>paymentMethod_paypal</th>\n",
              "      <th>paymentMethod_storecredit</th>\n",
              "    </tr>\n",
              "  </thead>\n",
              "  <tbody>\n",
              "    <tr>\n",
              "      <th>29947</th>\n",
              "      <td>181</td>\n",
              "      <td>1</td>\n",
              "      <td>4.836982</td>\n",
              "      <td>0.000000</td>\n",
              "      <td>0</td>\n",
              "      <td>0</td>\n",
              "      <td>0</td>\n",
              "      <td>1</td>\n",
              "    </tr>\n",
              "    <tr>\n",
              "      <th>7164</th>\n",
              "      <td>1424</td>\n",
              "      <td>1</td>\n",
              "      <td>4.921349</td>\n",
              "      <td>162.767361</td>\n",
              "      <td>0</td>\n",
              "      <td>1</td>\n",
              "      <td>0</td>\n",
              "      <td>0</td>\n",
              "    </tr>\n",
              "    <tr>\n",
              "      <th>3164</th>\n",
              "      <td>2000</td>\n",
              "      <td>1</td>\n",
              "      <td>5.017904</td>\n",
              "      <td>874.278472</td>\n",
              "      <td>0</td>\n",
              "      <td>1</td>\n",
              "      <td>0</td>\n",
              "      <td>0</td>\n",
              "    </tr>\n",
              "  </tbody>\n",
              "</table>\n",
              "</div>"
            ],
            "text/plain": [
              "       accountAgeDays  numItems  localTime  paymentMethodAgeDays  label  \\\n",
              "29947             181         1   4.836982              0.000000      0   \n",
              "7164             1424         1   4.921349            162.767361      0   \n",
              "3164             2000         1   5.017904            874.278472      0   \n",
              "\n",
              "       paymentMethod_creditcard  paymentMethod_paypal  \\\n",
              "29947                         0                     0   \n",
              "7164                          1                     0   \n",
              "3164                          1                     0   \n",
              "\n",
              "       paymentMethod_storecredit  \n",
              "29947                          1  \n",
              "7164                           0  \n",
              "3164                           0  "
            ]
          },
          "metadata": {
            "tags": []
          },
          "execution_count": 10
        }
      ]
    },
    {
      "metadata": {
        "id": "cZvdcADoy4gt",
        "colab_type": "code",
        "outputId": "3f3b2f62-d797-4e68-a5d6-6b57b958b146",
        "colab": {
          "base_uri": "https://localhost:8080/",
          "height": 68
        }
      },
      "cell_type": "code",
      "source": [
        "## add by me to remove warnings\n",
        "import warnings\n",
        "warnings.filterwarnings(\"ignore\", category=FutureWarning)\n",
        "##\n",
        "\n",
        "\n",
        "\n",
        "import pandas as pd\n",
        "from sklearn.model_selection import train_test_split\n",
        "from sklearn.linear_model import LogisticRegression\n",
        "from sklearn.metrics import confusion_matrix, accuracy_score\n",
        "\n",
        "df = pd.read_csv('/content/payment_fraud.csv')\n",
        "df = pd.get_dummies(df, columns=['paymentMethod'])\n",
        "\n",
        "Y = df['label']\n",
        "X = df.drop('label', axis=1)\n",
        "\n",
        "X_train, X_test, Y_train, Y_test = train_test_split(X, Y, test_size=0.33, random_state=17)\n",
        "\n",
        "clf = LogisticRegression()\n",
        "clf.fit(X_train, Y_train)\n",
        "\n",
        "Y_pred = clf.predict(X_test)\n",
        "\n",
        "print(confusion_matrix(Y_test, Y_pred))\n",
        "print(accuracy_score(Y_pred, Y_test))\n"
      ],
      "execution_count": 0,
      "outputs": [
        {
          "output_type": "stream",
          "text": [
            "[[12753     0]\n",
            " [    1   189]]\n",
            "0.999922738159623\n"
          ],
          "name": "stdout"
        }
      ]
    },
    {
      "metadata": {
        "id": "BhjaPFNv3i5J",
        "colab_type": "code",
        "colab": {}
      },
      "cell_type": "code",
      "source": [
        "pip install feature_selector"
      ],
      "execution_count": 0,
      "outputs": []
    },
    {
      "metadata": {
        "id": "DW4OnE4n88Fz",
        "colab_type": "code",
        "colab": {}
      },
      "cell_type": "code",
      "source": [
        "# Metodos de selcción de caracteristicas\n",
        "\n",
        "from feature_selector import FeatureSelector\n",
        "import pandas as pd\n",
        "\n",
        "df = pd.read_csv('/content/payment_fraud.csv')\n",
        "df = pd.get_dummies(df, columns=['paymentMethod'])\n",
        "\n",
        "Y = df['label']\n",
        "X = df.drop('label', axis=1)\n",
        "\n",
        "fs = FeatureSelector(data = X, labels = Y)"
      ],
      "execution_count": 0,
      "outputs": []
    },
    {
      "metadata": {
        "id": "kMK7442JOXVA",
        "colab_type": "code",
        "outputId": "dc22ac08-3a02-4b10-9298-76f00cdd614d",
        "colab": {
          "base_uri": "https://localhost:8080/",
          "height": 187
        }
      },
      "cell_type": "code",
      "source": [
        "#Metodo de seleccion de valores perdidos\n",
        "\n",
        "fs.identify_missing(missing_threshold=0.8)\n",
        "print(fs.missing_stats.head(10))"
      ],
      "execution_count": 0,
      "outputs": [
        {
          "output_type": "stream",
          "text": [
            "0 features with greater than 0.80 missing values.\n",
            "\n",
            "                           missing_fraction\n",
            "accountAgeDays                          0.0\n",
            "numItems                                0.0\n",
            "localTime                               0.0\n",
            "paymentMethodAgeDays                    0.0\n",
            "paymentMethod_creditcard                0.0\n",
            "paymentMethod_paypal                    0.0\n",
            "paymentMethod_storecredit               0.0\n"
          ],
          "name": "stdout"
        }
      ]
    },
    {
      "metadata": {
        "id": "OHpQ6MIROgb4",
        "colab_type": "code",
        "outputId": "c1da0fc8-1160-4645-ed16-fca098ba0f27",
        "colab": {
          "base_uri": "https://localhost:8080/",
          "height": 300
        }
      },
      "cell_type": "code",
      "source": [
        "#Metodo de valores unicos\n",
        "\n",
        "fs.identify_single_unique()\n",
        "fs.unique_stats.sample(7)"
      ],
      "execution_count": 0,
      "outputs": [
        {
          "output_type": "stream",
          "text": [
            "0 features with a single unique value.\n",
            "\n"
          ],
          "name": "stdout"
        },
        {
          "output_type": "execute_result",
          "data": {
            "text/html": [
              "<div>\n",
              "<style scoped>\n",
              "    .dataframe tbody tr th:only-of-type {\n",
              "        vertical-align: middle;\n",
              "    }\n",
              "\n",
              "    .dataframe tbody tr th {\n",
              "        vertical-align: top;\n",
              "    }\n",
              "\n",
              "    .dataframe thead th {\n",
              "        text-align: right;\n",
              "    }\n",
              "</style>\n",
              "<table border=\"1\" class=\"dataframe\">\n",
              "  <thead>\n",
              "    <tr style=\"text-align: right;\">\n",
              "      <th></th>\n",
              "      <th>nunique</th>\n",
              "    </tr>\n",
              "  </thead>\n",
              "  <tbody>\n",
              "    <tr>\n",
              "      <th>paymentMethod_storecredit</th>\n",
              "      <td>2</td>\n",
              "    </tr>\n",
              "    <tr>\n",
              "      <th>paymentMethod_paypal</th>\n",
              "      <td>2</td>\n",
              "    </tr>\n",
              "    <tr>\n",
              "      <th>numItems</th>\n",
              "      <td>14</td>\n",
              "    </tr>\n",
              "    <tr>\n",
              "      <th>paymentMethodAgeDays</th>\n",
              "      <td>17094</td>\n",
              "    </tr>\n",
              "    <tr>\n",
              "      <th>accountAgeDays</th>\n",
              "      <td>1999</td>\n",
              "    </tr>\n",
              "    <tr>\n",
              "      <th>paymentMethod_creditcard</th>\n",
              "      <td>2</td>\n",
              "    </tr>\n",
              "    <tr>\n",
              "      <th>localTime</th>\n",
              "      <td>25</td>\n",
              "    </tr>\n",
              "  </tbody>\n",
              "</table>\n",
              "</div>"
            ],
            "text/plain": [
              "                           nunique\n",
              "paymentMethod_storecredit        2\n",
              "paymentMethod_paypal             2\n",
              "numItems                        14\n",
              "paymentMethodAgeDays         17094\n",
              "accountAgeDays                1999\n",
              "paymentMethod_creditcard         2\n",
              "localTime                       25"
            ]
          },
          "metadata": {
            "tags": []
          },
          "execution_count": 3
        }
      ]
    },
    {
      "metadata": {
        "id": "tyAT1PLDO65A",
        "colab_type": "code",
        "outputId": "7473f6cf-8e88-4be2-e963-2c92aba037ad",
        "colab": {
          "base_uri": "https://localhost:8080/",
          "height": 114
        }
      },
      "cell_type": "code",
      "source": [
        "#Metodo de caracteristicas colineales\n",
        "\n",
        "fs.identify_collinear(correlation_threshold=0.8)\n",
        "fs.record_collinear.head()"
      ],
      "execution_count": 0,
      "outputs": [
        {
          "output_type": "stream",
          "text": [
            "1 features with a correlation magnitude greater than 0.80.\n",
            "\n"
          ],
          "name": "stdout"
        },
        {
          "output_type": "execute_result",
          "data": {
            "text/html": [
              "<div>\n",
              "<style scoped>\n",
              "    .dataframe tbody tr th:only-of-type {\n",
              "        vertical-align: middle;\n",
              "    }\n",
              "\n",
              "    .dataframe tbody tr th {\n",
              "        vertical-align: top;\n",
              "    }\n",
              "\n",
              "    .dataframe thead th {\n",
              "        text-align: right;\n",
              "    }\n",
              "</style>\n",
              "<table border=\"1\" class=\"dataframe\">\n",
              "  <thead>\n",
              "    <tr style=\"text-align: right;\">\n",
              "      <th></th>\n",
              "      <th>drop_feature</th>\n",
              "      <th>corr_feature</th>\n",
              "      <th>corr_value</th>\n",
              "    </tr>\n",
              "  </thead>\n",
              "  <tbody>\n",
              "    <tr>\n",
              "      <th>0</th>\n",
              "      <td>paymentMethod_paypal</td>\n",
              "      <td>paymentMethod_creditcard</td>\n",
              "      <td>-0.881083</td>\n",
              "    </tr>\n",
              "  </tbody>\n",
              "</table>\n",
              "</div>"
            ],
            "text/plain": [
              "           drop_feature              corr_feature  corr_value\n",
              "0  paymentMethod_paypal  paymentMethod_creditcard   -0.881083"
            ]
          },
          "metadata": {
            "tags": []
          },
          "execution_count": 4
        }
      ]
    },
    {
      "metadata": {
        "id": "YAPkcCe0Ppl5",
        "colab_type": "code",
        "outputId": "321fecd0-ac2a-4a35-d208-760a7267411a",
        "colab": {
          "base_uri": "https://localhost:8080/",
          "height": 1311
        }
      },
      "cell_type": "code",
      "source": [
        "#Metodo de caracteristicas con 'cero' importancia\n",
        "\n",
        "fs.identify_zero_importance(task = 'classification', eval_metric = 'auc', n_iterations = 10, early_stopping = False)\n",
        "fs.plot_feature_importances(threshold = 0.99, plot_n = 12)\n",
        "fs.feature_importances.head(10)"
      ],
      "execution_count": 0,
      "outputs": [
        {
          "output_type": "stream",
          "text": [
            "Training Gradient Boosting Model\n",
            "\n",
            "\n",
            "2 features with zero importance after one-hot encoding.\n",
            "\n"
          ],
          "name": "stdout"
        },
        {
          "output_type": "display_data",
          "data": {
            "image/png": "[encoded data removed]",
            "text/plain": [
              "<matplotlib.figure.Figure at 0x7fea03dd1400>"
            ]
          },
          "metadata": {
            "tags": []
          }
        },
        {
          "output_type": "display_data",
          "data": {
            "image/png": "[encoded data removed]",
            "text/plain": [
              "<matplotlib.figure.Figure at 0x7fea03b7bf28>"
            ]
          },
          "metadata": {
            "tags": []
          }
        },
        {
          "output_type": "stream",
          "text": [
            "4 features required for 0.99 of cumulative importance\n"
          ],
          "name": "stdout"
        },
        {
          "output_type": "execute_result",
          "data": {
            "text/html": [
              "<div>\n",
              "<style scoped>\n",
              "    .dataframe tbody tr th:only-of-type {\n",
              "        vertical-align: middle;\n",
              "    }\n",
              "\n",
              "    .dataframe tbody tr th {\n",
              "        vertical-align: top;\n",
              "    }\n",
              "\n",
              "    .dataframe thead th {\n",
              "        text-align: right;\n",
              "    }\n",
              "</style>\n",
              "<table border=\"1\" class=\"dataframe\">\n",
              "  <thead>\n",
              "    <tr style=\"text-align: right;\">\n",
              "      <th></th>\n",
              "      <th>feature</th>\n",
              "      <th>importance</th>\n",
              "      <th>normalized_importance</th>\n",
              "      <th>cumulative_importance</th>\n",
              "    </tr>\n",
              "  </thead>\n",
              "  <tbody>\n",
              "    <tr>\n",
              "      <th>0</th>\n",
              "      <td>accountAgeDays</td>\n",
              "      <td>1249.0</td>\n",
              "      <td>0.426571</td>\n",
              "      <td>0.426571</td>\n",
              "    </tr>\n",
              "    <tr>\n",
              "      <th>1</th>\n",
              "      <td>paymentMethodAgeDays</td>\n",
              "      <td>949.0</td>\n",
              "      <td>0.324112</td>\n",
              "      <td>0.750683</td>\n",
              "    </tr>\n",
              "    <tr>\n",
              "      <th>2</th>\n",
              "      <td>localTime</td>\n",
              "      <td>626.0</td>\n",
              "      <td>0.213798</td>\n",
              "      <td>0.964481</td>\n",
              "    </tr>\n",
              "    <tr>\n",
              "      <th>3</th>\n",
              "      <td>numItems</td>\n",
              "      <td>101.0</td>\n",
              "      <td>0.034495</td>\n",
              "      <td>0.998975</td>\n",
              "    </tr>\n",
              "    <tr>\n",
              "      <th>4</th>\n",
              "      <td>paymentMethod_creditcard</td>\n",
              "      <td>3.0</td>\n",
              "      <td>0.001025</td>\n",
              "      <td>1.000000</td>\n",
              "    </tr>\n",
              "    <tr>\n",
              "      <th>5</th>\n",
              "      <td>paymentMethod_paypal</td>\n",
              "      <td>0.0</td>\n",
              "      <td>0.000000</td>\n",
              "      <td>1.000000</td>\n",
              "    </tr>\n",
              "    <tr>\n",
              "      <th>6</th>\n",
              "      <td>paymentMethod_storecredit</td>\n",
              "      <td>0.0</td>\n",
              "      <td>0.000000</td>\n",
              "      <td>1.000000</td>\n",
              "    </tr>\n",
              "  </tbody>\n",
              "</table>\n",
              "</div>"
            ],
            "text/plain": [
              "                     feature  importance  normalized_importance  \\\n",
              "0             accountAgeDays      1249.0               0.426571   \n",
              "1       paymentMethodAgeDays       949.0               0.324112   \n",
              "2                  localTime       626.0               0.213798   \n",
              "3                   numItems       101.0               0.034495   \n",
              "4   paymentMethod_creditcard         3.0               0.001025   \n",
              "5       paymentMethod_paypal         0.0               0.000000   \n",
              "6  paymentMethod_storecredit         0.0               0.000000   \n",
              "\n",
              "   cumulative_importance  \n",
              "0               0.426571  \n",
              "1               0.750683  \n",
              "2               0.964481  \n",
              "3               0.998975  \n",
              "4               1.000000  \n",
              "5               1.000000  \n",
              "6               1.000000  "
            ]
          },
          "metadata": {
            "tags": []
          },
          "execution_count": 25
        }
      ]
    },
    {
      "metadata": {
        "id": "BeVQVh3ORJGZ",
        "colab_type": "code",
        "outputId": "d34e341f-3099-4917-e464-fa24f720e0bd",
        "colab": {
          "base_uri": "https://localhost:8080/",
          "height": 68
        }
      },
      "cell_type": "code",
      "source": [
        "#Aqui retiramos la caracteristica de 'paymentMethod' ya que no aporta valor ...\n",
        "import pandas as pd\n",
        "from sklearn.model_selection import train_test_split\n",
        "from sklearn.linear_model import LogisticRegression\n",
        "from sklearn.metrics import confusion_matrix, accuracy_score\n",
        "\n",
        "df = pd.read_csv('payment_fraud.csv')\n",
        "\n",
        "Y = df['label']\n",
        "X = df.drop(['label','paymentMethod'], axis=1)\n",
        "\n",
        "X_train, X_test, Y_train, Y_test = train_test_split(X, Y, test_size=0.33, random_state=17)\n",
        "\n",
        "clf = LogisticRegression()\n",
        "clf.fit(X_train, Y_train)\n",
        "\n",
        "Y_pred = clf.predict(X_test)\n",
        "\n",
        "print(confusion_matrix(Y_test, Y_pred))\n",
        "print(accuracy_score(Y_pred, Y_test))"
      ],
      "execution_count": 0,
      "outputs": [
        {
          "output_type": "stream",
          "text": [
            "[[12753     0]\n",
            " [    0   190]]\n",
            "1.0\n"
          ],
          "name": "stdout"
        }
      ]
    },
    {
      "metadata": {
        "id": "U6_9DpsfT-dA",
        "colab_type": "code",
        "outputId": "3f527479-37fb-4dcb-de4a-ef8cecfb523f",
        "colab": {
          "base_uri": "https://localhost:8080/",
          "height": 104
        }
      },
      "cell_type": "code",
      "source": [
        "#Metodo de extraccion con SVD\n",
        "from sklearn.model_selection import train_test_split\n",
        "from sklearn.linear_model import LogisticRegression\n",
        "from sklearn.metrics import confusion_matrix, accuracy_score\n",
        "import pandas as pd\n",
        "from sklearn.decomposition import TruncatedSVD\n",
        "from time import time\n",
        "\n",
        "df = pd.read_csv('payment_fraud.csv')\n",
        "\n",
        "Y = df['label']\n",
        "X = df.drop(['label','paymentMethod'], axis=1)\n",
        "\n",
        "svd = TruncatedSVD(n_components=2, n_iter=7, random_state=42)\n",
        "X_svd = svd.fit_transform(X)\n",
        "\n",
        "X_train, X_test, Y_train, Y_test = train_test_split(X, Y, test_size=0.33, random_state=17)\n",
        "\n",
        "clf = LogisticRegression()\n",
        "\n",
        "start_time = time()\n",
        "clf.fit(X_train, Y_train)\n",
        "elapsed_time = time() - start_time\n",
        "print(\"Tiempo de entrenamiento: %0.10f seconds.\" % elapsed_time)\n",
        "\n",
        "start_time = time()\n",
        "Y_pred = clf.predict(X_test)\n",
        "elapsed_time = time() - start_time\n",
        "print(\"Tiempo de prediccion: %0.10f seconds.\" % elapsed_time)\n",
        "\n",
        "print(confusion_matrix(Y_test, Y_pred))\n",
        "print(accuracy_score(Y_pred, Y_test))"
      ],
      "execution_count": 0,
      "outputs": [
        {
          "output_type": "stream",
          "text": [
            "Tiempo de entrenamiento: 0.1142799854 seconds.\n",
            "Tiempo de prediccion: 0.0013103485 seconds.\n",
            "[[12753     0]\n",
            " [    0   190]]\n",
            "1.0\n"
          ],
          "name": "stdout"
        }
      ]
    },
    {
      "metadata": {
        "id": "5Bi9wt1BCQdI",
        "colab_type": "code",
        "outputId": "edceecb3-9181-4381-be52-7a989d8fefb1",
        "colab": {
          "base_uri": "https://localhost:8080/",
          "height": 153
        }
      },
      "cell_type": "code",
      "source": [
        "import warnings\n",
        "warnings.filterwarnings(\"ignore\", category=FutureWarning)\n",
        "import pandas as pd\n",
        "from sklearn.model_selection import train_test_split\n",
        "from sklearn.linear_model import LogisticRegression\n",
        "from sklearn.metrics import confusion_matrix, accuracy_score, precision_score\n",
        "from time import time\n",
        "\n",
        "df = pd.read_csv('payment_fraud.csv')\n",
        "\n",
        "Y = df['label']\n",
        "X = df.drop(['label','paymentMethod', 'accountAgeDays'], axis=1)\n",
        "\n",
        "X_train, X_test, Y_train, Y_test = train_test_split(X, Y, test_size=0.33, random_state=17)\n",
        "\n",
        "\n",
        "clf = LogisticRegression()\n",
        "clf.fit(X_train, Y_train)\n",
        "Y_pred = clf.predict(X_test)\n",
        "\n",
        "print(\"\\n\", \"Precision: \", accuracy_score(Y_pred, Y_test))\n",
        "print(\"\\n\", \"Tasa de error: \", 1 - accuracy_score(Y_pred, Y_test))\n",
        "\n",
        "print(confusion_matrix(Y_test, Y_pred))\n",
        "# se ha tenido que añadir (sin contar con lo que aparee en el video) el import de precision_score\n",
        "print(\"\\n\", \"Precision: \", precision_score(Y_pred, Y_test))"
      ],
      "execution_count": 0,
      "outputs": [
        {
          "output_type": "stream",
          "text": [
            "\n",
            " Precision:  0.9851657266476087\n",
            "\n",
            " Tasa de error:  0.014834273352391292\n",
            "[[12749     4]\n",
            " [  188     2]]\n",
            "\n",
            " Precision:  0.010526315789473684\n"
          ],
          "name": "stdout"
        }
      ]
    },
    {
      "metadata": {
        "id": "ffbOrhBcFwSW",
        "colab_type": "code",
        "outputId": "e031252a-479d-4d98-9be6-17390e3f4604",
        "colab": {
          "base_uri": "https://localhost:8080/",
          "height": 34
        }
      },
      "cell_type": "code",
      "source": [
        "import warnings\n",
        "warnings.filterwarnings(\"ignore\", category=FutureWarning)\n",
        "import pandas as pd\n",
        "from sklearn.model_selection import train_test_split\n",
        "from sklearn.linear_model import LogisticRegression\n",
        "from sklearn.metrics import f1_score\n",
        "\n",
        "df = pd.read_csv('/content/payment_fraud.csv')\n",
        "df = pd.get_dummies(df, columns=['paymentMethod'])\n",
        "\n",
        "X_train, X_test, y_train, y_test = train_test_split(df.drop(['label'], axis=1), \n",
        "                                                    df['label'], \n",
        "                                                    test_size=0.33, \n",
        "                                                    random_state=17)\n",
        "\n",
        "clf = LogisticRegression()\n",
        "clf.fit(X_train, y_train)\n",
        "y_pred = clf.predict(X_test)\n",
        "\n",
        "print(\"F1-score:\", f1_score(y_test, y_pred))\n"
      ],
      "execution_count": 0,
      "outputs": [
        {
          "output_type": "stream",
          "text": [
            "F1-score: 0.9973614775725593\n"
          ],
          "name": "stdout"
        }
      ]
    },
    {
      "metadata": {
        "id": "0Gyrxym3HrGZ",
        "colab_type": "code",
        "outputId": "c2d0a463-c22f-4b98-865c-64de0e1a9faf",
        "colab": {
          "base_uri": "https://localhost:8080/",
          "height": 581
        }
      },
      "cell_type": "code",
      "source": [
        "import warnings\n",
        "warnings.filterwarnings(\"ignore\", category=FutureWarning)\n",
        "import pandas as pd\n",
        "from sklearn.model_selection import train_test_split\n",
        "from sklearn.linear_model import LogisticRegression\n",
        "from sklearn.metrics import precision_recall_curve, roc_curve\n",
        "import matplotlib.pyplot as plt\n",
        "\n",
        "df = pd.read_csv('/content/payment_fraud.csv')\n",
        "\n",
        "fig = plt.figure(figsize=(15,8))\n",
        "ax1 = fig.add_subplot(1,2,1)\n",
        "ax1.set_xlim([-0.5,1.05])\n",
        "ax1.set_ylim([-0.5,1.05])\n",
        "ax1.set_xlabel('Recall')\n",
        "ax1.set_ylabel('Precision')\n",
        "ax1.set_title('PR Curve')\n",
        "\n",
        "ax2 = fig.add_subplot(1,2,2)\n",
        "ax2.set_xlim([-0.5,1.05])\n",
        "ax2.set_ylim([-0.5,1.05])\n",
        "ax2.set_xlabel('False Positive Rate')\n",
        "ax2.set_ylabel('True Positive Rate')\n",
        "ax2.set_title('ROC Curve')\n",
        "\n",
        "\n",
        "for w,k in zip(['paymentMethod', 'accountAgeDays'], 'br'):\n",
        "    if w != 'paymentMethod':\n",
        "        df = pd.get_dummies(df, columns=['paymentMethod'])\n",
        "    \n",
        "    X_train, X_test, y_train, y_test = train_test_split(df.drop(['label', w], axis=1), \n",
        "                                                    df['label'], \n",
        "                                                    test_size=0.33 , \n",
        "                                                    random_state=17)\n",
        "    clf = LogisticRegression()\n",
        "    clf.fit(X_train, y_train)\n",
        "    pred_prob = clf.predict_proba(X_test)[:,1]\n",
        "    \n",
        "    p,r,_ = precision_recall_curve(y_test, pred_prob)\n",
        "    tpr,fpr,_ = roc_curve(y_test, pred_prob)\n",
        "    \n",
        "    ax1.plot(r,p,c=k,label=w)\n",
        "    ax2.plot(tpr,fpr,c=k,label=w)\n",
        "    \n",
        "ax1.legend(loc='lower left')\n",
        "ax2.legend(loc='lower left')\n",
        "\n",
        "plt.show()"
      ],
      "execution_count": 0,
      "outputs": [
        {
          "output_type": "stream",
          "text": [
            "/usr/local/lib/python3.6/dist-packages/sklearn/linear_model/base.py:297: RuntimeWarning: overflow encountered in exp\n",
            "  np.exp(prob, prob)\n",
            "/usr/local/lib/python3.6/dist-packages/sklearn/linear_model/base.py:297: RuntimeWarning: overflow encountered in exp\n",
            "  np.exp(prob, prob)\n"
          ],
          "name": "stderr"
        },
        {
          "output_type": "display_data",
          "data": {
            "image/png": "[encoded data removed]",
            "text/plain": [
              "<Figure size 1080x576 with 2 Axes>"
            ]
          },
          "metadata": {
            "tags": []
          }
        }
      ]
    },
    {
      "metadata": {
        "id": "dKdV8RIc0wcj",
        "colab_type": "code",
        "outputId": "2732c6ff-eaf8-4ab5-eb50-7eb8400bb28c",
        "colab": {
          "base_uri": "https://localhost:8080/",
          "height": 408
        }
      },
      "cell_type": "code",
      "source": [
        "import pandas as pd\n",
        "\n",
        "df = pd.read_csv('creditcard.csv')\n",
        "df.head(10)\n"
      ],
      "execution_count": 0,
      "outputs": [
        {
          "output_type": "execute_result",
          "data": {
            "text/html": [
              "<div>\n",
              "<style scoped>\n",
              "    .dataframe tbody tr th:only-of-type {\n",
              "        vertical-align: middle;\n",
              "    }\n",
              "\n",
              "    .dataframe tbody tr th {\n",
              "        vertical-align: top;\n",
              "    }\n",
              "\n",
              "    .dataframe thead th {\n",
              "        text-align: right;\n",
              "    }\n",
              "</style>\n",
              "<table border=\"1\" class=\"dataframe\">\n",
              "  <thead>\n",
              "    <tr style=\"text-align: right;\">\n",
              "      <th></th>\n",
              "      <th>Time</th>\n",
              "      <th>V1</th>\n",
              "      <th>V2</th>\n",
              "      <th>V3</th>\n",
              "      <th>V4</th>\n",
              "      <th>V5</th>\n",
              "      <th>V6</th>\n",
              "      <th>V7</th>\n",
              "      <th>V8</th>\n",
              "      <th>V9</th>\n",
              "      <th>...</th>\n",
              "      <th>V21</th>\n",
              "      <th>V22</th>\n",
              "      <th>V23</th>\n",
              "      <th>V24</th>\n",
              "      <th>V25</th>\n",
              "      <th>V26</th>\n",
              "      <th>V27</th>\n",
              "      <th>V28</th>\n",
              "      <th>Amount</th>\n",
              "      <th>Class</th>\n",
              "    </tr>\n",
              "  </thead>\n",
              "  <tbody>\n",
              "    <tr>\n",
              "      <th>0</th>\n",
              "      <td>0.0</td>\n",
              "      <td>-1.359807</td>\n",
              "      <td>-0.072781</td>\n",
              "      <td>2.536347</td>\n",
              "      <td>1.378155</td>\n",
              "      <td>-0.338321</td>\n",
              "      <td>0.462388</td>\n",
              "      <td>0.239599</td>\n",
              "      <td>0.098698</td>\n",
              "      <td>0.363787</td>\n",
              "      <td>...</td>\n",
              "      <td>-0.018307</td>\n",
              "      <td>0.277838</td>\n",
              "      <td>-0.110474</td>\n",
              "      <td>0.066928</td>\n",
              "      <td>0.128539</td>\n",
              "      <td>-0.189115</td>\n",
              "      <td>0.133558</td>\n",
              "      <td>-0.021053</td>\n",
              "      <td>149.62</td>\n",
              "      <td>0.0</td>\n",
              "    </tr>\n",
              "    <tr>\n",
              "      <th>1</th>\n",
              "      <td>0.0</td>\n",
              "      <td>1.191857</td>\n",
              "      <td>0.266151</td>\n",
              "      <td>0.166480</td>\n",
              "      <td>0.448154</td>\n",
              "      <td>0.060018</td>\n",
              "      <td>-0.082361</td>\n",
              "      <td>-0.078803</td>\n",
              "      <td>0.085102</td>\n",
              "      <td>-0.255425</td>\n",
              "      <td>...</td>\n",
              "      <td>-0.225775</td>\n",
              "      <td>-0.638672</td>\n",
              "      <td>0.101288</td>\n",
              "      <td>-0.339846</td>\n",
              "      <td>0.167170</td>\n",
              "      <td>0.125895</td>\n",
              "      <td>-0.008983</td>\n",
              "      <td>0.014724</td>\n",
              "      <td>2.69</td>\n",
              "      <td>0.0</td>\n",
              "    </tr>\n",
              "    <tr>\n",
              "      <th>2</th>\n",
              "      <td>1.0</td>\n",
              "      <td>-1.358354</td>\n",
              "      <td>-1.340163</td>\n",
              "      <td>1.773209</td>\n",
              "      <td>0.379780</td>\n",
              "      <td>-0.503198</td>\n",
              "      <td>1.800499</td>\n",
              "      <td>0.791461</td>\n",
              "      <td>0.247676</td>\n",
              "      <td>-1.514654</td>\n",
              "      <td>...</td>\n",
              "      <td>0.247998</td>\n",
              "      <td>0.771679</td>\n",
              "      <td>0.909412</td>\n",
              "      <td>-0.689281</td>\n",
              "      <td>-0.327642</td>\n",
              "      <td>-0.139097</td>\n",
              "      <td>-0.055353</td>\n",
              "      <td>-0.059752</td>\n",
              "      <td>378.66</td>\n",
              "      <td>0.0</td>\n",
              "    </tr>\n",
              "    <tr>\n",
              "      <th>3</th>\n",
              "      <td>1.0</td>\n",
              "      <td>-0.966272</td>\n",
              "      <td>-0.185226</td>\n",
              "      <td>1.792993</td>\n",
              "      <td>-0.863291</td>\n",
              "      <td>-0.010309</td>\n",
              "      <td>1.247203</td>\n",
              "      <td>0.237609</td>\n",
              "      <td>0.377436</td>\n",
              "      <td>-1.387024</td>\n",
              "      <td>...</td>\n",
              "      <td>-0.108300</td>\n",
              "      <td>0.005274</td>\n",
              "      <td>-0.190321</td>\n",
              "      <td>-1.175575</td>\n",
              "      <td>0.647376</td>\n",
              "      <td>-0.221929</td>\n",
              "      <td>0.062723</td>\n",
              "      <td>0.061458</td>\n",
              "      <td>123.50</td>\n",
              "      <td>0.0</td>\n",
              "    </tr>\n",
              "    <tr>\n",
              "      <th>4</th>\n",
              "      <td>2.0</td>\n",
              "      <td>-1.158233</td>\n",
              "      <td>0.877737</td>\n",
              "      <td>1.548718</td>\n",
              "      <td>0.403034</td>\n",
              "      <td>-0.407193</td>\n",
              "      <td>0.095921</td>\n",
              "      <td>0.592941</td>\n",
              "      <td>-0.270533</td>\n",
              "      <td>0.817739</td>\n",
              "      <td>...</td>\n",
              "      <td>-0.009431</td>\n",
              "      <td>0.798278</td>\n",
              "      <td>-0.137458</td>\n",
              "      <td>0.141267</td>\n",
              "      <td>-0.206010</td>\n",
              "      <td>0.502292</td>\n",
              "      <td>0.219422</td>\n",
              "      <td>0.215153</td>\n",
              "      <td>69.99</td>\n",
              "      <td>0.0</td>\n",
              "    </tr>\n",
              "    <tr>\n",
              "      <th>5</th>\n",
              "      <td>2.0</td>\n",
              "      <td>-0.425966</td>\n",
              "      <td>0.960523</td>\n",
              "      <td>1.141109</td>\n",
              "      <td>-0.168252</td>\n",
              "      <td>0.420987</td>\n",
              "      <td>-0.029728</td>\n",
              "      <td>0.476201</td>\n",
              "      <td>0.260314</td>\n",
              "      <td>-0.568671</td>\n",
              "      <td>...</td>\n",
              "      <td>-0.208254</td>\n",
              "      <td>-0.559825</td>\n",
              "      <td>-0.026398</td>\n",
              "      <td>-0.371427</td>\n",
              "      <td>-0.232794</td>\n",
              "      <td>0.105915</td>\n",
              "      <td>0.253844</td>\n",
              "      <td>0.081080</td>\n",
              "      <td>3.67</td>\n",
              "      <td>0.0</td>\n",
              "    </tr>\n",
              "    <tr>\n",
              "      <th>6</th>\n",
              "      <td>4.0</td>\n",
              "      <td>1.229658</td>\n",
              "      <td>0.141004</td>\n",
              "      <td>0.045371</td>\n",
              "      <td>1.202613</td>\n",
              "      <td>0.191881</td>\n",
              "      <td>0.272708</td>\n",
              "      <td>-0.005159</td>\n",
              "      <td>0.081213</td>\n",
              "      <td>0.464960</td>\n",
              "      <td>...</td>\n",
              "      <td>-0.167716</td>\n",
              "      <td>-0.270710</td>\n",
              "      <td>-0.154104</td>\n",
              "      <td>-0.780055</td>\n",
              "      <td>0.750137</td>\n",
              "      <td>-0.257237</td>\n",
              "      <td>0.034507</td>\n",
              "      <td>0.005168</td>\n",
              "      <td>4.99</td>\n",
              "      <td>0.0</td>\n",
              "    </tr>\n",
              "    <tr>\n",
              "      <th>7</th>\n",
              "      <td>7.0</td>\n",
              "      <td>-0.644269</td>\n",
              "      <td>1.417964</td>\n",
              "      <td>1.074380</td>\n",
              "      <td>-0.492199</td>\n",
              "      <td>0.948934</td>\n",
              "      <td>0.428118</td>\n",
              "      <td>1.120631</td>\n",
              "      <td>-3.807864</td>\n",
              "      <td>0.615375</td>\n",
              "      <td>...</td>\n",
              "      <td>1.943465</td>\n",
              "      <td>-1.015455</td>\n",
              "      <td>0.057504</td>\n",
              "      <td>-0.649709</td>\n",
              "      <td>-0.415267</td>\n",
              "      <td>-0.051634</td>\n",
              "      <td>-1.206921</td>\n",
              "      <td>-1.085339</td>\n",
              "      <td>40.80</td>\n",
              "      <td>0.0</td>\n",
              "    </tr>\n",
              "    <tr>\n",
              "      <th>8</th>\n",
              "      <td>7.0</td>\n",
              "      <td>-0.894286</td>\n",
              "      <td>0.286157</td>\n",
              "      <td>-0.113192</td>\n",
              "      <td>-0.271526</td>\n",
              "      <td>2.669599</td>\n",
              "      <td>3.721818</td>\n",
              "      <td>0.370145</td>\n",
              "      <td>0.851084</td>\n",
              "      <td>-0.392048</td>\n",
              "      <td>...</td>\n",
              "      <td>-0.073425</td>\n",
              "      <td>-0.268092</td>\n",
              "      <td>-0.204233</td>\n",
              "      <td>1.011592</td>\n",
              "      <td>0.373205</td>\n",
              "      <td>-0.384157</td>\n",
              "      <td>0.011747</td>\n",
              "      <td>0.142404</td>\n",
              "      <td>93.20</td>\n",
              "      <td>0.0</td>\n",
              "    </tr>\n",
              "    <tr>\n",
              "      <th>9</th>\n",
              "      <td>9.0</td>\n",
              "      <td>-0.338262</td>\n",
              "      <td>1.119593</td>\n",
              "      <td>1.044367</td>\n",
              "      <td>-0.222187</td>\n",
              "      <td>0.499361</td>\n",
              "      <td>-0.246761</td>\n",
              "      <td>0.651583</td>\n",
              "      <td>0.069539</td>\n",
              "      <td>-0.736727</td>\n",
              "      <td>...</td>\n",
              "      <td>-0.246914</td>\n",
              "      <td>-0.633753</td>\n",
              "      <td>-0.120794</td>\n",
              "      <td>-0.385050</td>\n",
              "      <td>-0.069733</td>\n",
              "      <td>0.094199</td>\n",
              "      <td>0.246219</td>\n",
              "      <td>0.083076</td>\n",
              "      <td>3.68</td>\n",
              "      <td>0.0</td>\n",
              "    </tr>\n",
              "  </tbody>\n",
              "</table>\n",
              "<p>10 rows × 31 columns</p>\n",
              "</div>"
            ],
            "text/plain": [
              "   Time        V1        V2        V3        V4        V5        V6        V7  \\\n",
              "0   0.0 -1.359807 -0.072781  2.536347  1.378155 -0.338321  0.462388  0.239599   \n",
              "1   0.0  1.191857  0.266151  0.166480  0.448154  0.060018 -0.082361 -0.078803   \n",
              "2   1.0 -1.358354 -1.340163  1.773209  0.379780 -0.503198  1.800499  0.791461   \n",
              "3   1.0 -0.966272 -0.185226  1.792993 -0.863291 -0.010309  1.247203  0.237609   \n",
              "4   2.0 -1.158233  0.877737  1.548718  0.403034 -0.407193  0.095921  0.592941   \n",
              "5   2.0 -0.425966  0.960523  1.141109 -0.168252  0.420987 -0.029728  0.476201   \n",
              "6   4.0  1.229658  0.141004  0.045371  1.202613  0.191881  0.272708 -0.005159   \n",
              "7   7.0 -0.644269  1.417964  1.074380 -0.492199  0.948934  0.428118  1.120631   \n",
              "8   7.0 -0.894286  0.286157 -0.113192 -0.271526  2.669599  3.721818  0.370145   \n",
              "9   9.0 -0.338262  1.119593  1.044367 -0.222187  0.499361 -0.246761  0.651583   \n",
              "\n",
              "         V8        V9  ...         V21       V22       V23       V24  \\\n",
              "0  0.098698  0.363787  ...   -0.018307  0.277838 -0.110474  0.066928   \n",
              "1  0.085102 -0.255425  ...   -0.225775 -0.638672  0.101288 -0.339846   \n",
              "2  0.247676 -1.514654  ...    0.247998  0.771679  0.909412 -0.689281   \n",
              "3  0.377436 -1.387024  ...   -0.108300  0.005274 -0.190321 -1.175575   \n",
              "4 -0.270533  0.817739  ...   -0.009431  0.798278 -0.137458  0.141267   \n",
              "5  0.260314 -0.568671  ...   -0.208254 -0.559825 -0.026398 -0.371427   \n",
              "6  0.081213  0.464960  ...   -0.167716 -0.270710 -0.154104 -0.780055   \n",
              "7 -3.807864  0.615375  ...    1.943465 -1.015455  0.057504 -0.649709   \n",
              "8  0.851084 -0.392048  ...   -0.073425 -0.268092 -0.204233  1.011592   \n",
              "9  0.069539 -0.736727  ...   -0.246914 -0.633753 -0.120794 -0.385050   \n",
              "\n",
              "        V25       V26       V27       V28  Amount  Class  \n",
              "0  0.128539 -0.189115  0.133558 -0.021053  149.62    0.0  \n",
              "1  0.167170  0.125895 -0.008983  0.014724    2.69    0.0  \n",
              "2 -0.327642 -0.139097 -0.055353 -0.059752  378.66    0.0  \n",
              "3  0.647376 -0.221929  0.062723  0.061458  123.50    0.0  \n",
              "4 -0.206010  0.502292  0.219422  0.215153   69.99    0.0  \n",
              "5 -0.232794  0.105915  0.253844  0.081080    3.67    0.0  \n",
              "6  0.750137 -0.257237  0.034507  0.005168    4.99    0.0  \n",
              "7 -0.415267 -0.051634 -1.206921 -1.085339   40.80    0.0  \n",
              "8  0.373205 -0.384157  0.011747  0.142404   93.20    0.0  \n",
              "9 -0.069733  0.094199  0.246219  0.083076    3.68    0.0  \n",
              "\n",
              "[10 rows x 31 columns]"
            ]
          },
          "metadata": {
            "tags": []
          },
          "execution_count": 56
        }
      ]
    },
    {
      "metadata": {
        "id": "5R8OmIdWNLCx",
        "colab_type": "code",
        "outputId": "74a3738e-2e3d-4057-ec0c-7af5a3322c45",
        "colab": {
          "base_uri": "https://localhost:8080/",
          "height": 544
        }
      },
      "cell_type": "code",
      "source": [
        "list(df)\n"
      ],
      "execution_count": 0,
      "outputs": [
        {
          "output_type": "execute_result",
          "data": {
            "text/plain": [
              "['Time',\n",
              " 'V1',\n",
              " 'V2',\n",
              " 'V3',\n",
              " 'V4',\n",
              " 'V5',\n",
              " 'V6',\n",
              " 'V7',\n",
              " 'V8',\n",
              " 'V9',\n",
              " 'V10',\n",
              " 'V11',\n",
              " 'V12',\n",
              " 'V13',\n",
              " 'V14',\n",
              " 'V15',\n",
              " 'V16',\n",
              " 'V17',\n",
              " 'V18',\n",
              " 'V19',\n",
              " 'V20',\n",
              " 'V21',\n",
              " 'V22',\n",
              " 'V23',\n",
              " 'V24',\n",
              " 'V25',\n",
              " 'V26',\n",
              " 'V27',\n",
              " 'V28',\n",
              " 'Amount',\n",
              " 'Class']"
            ]
          },
          "metadata": {
            "tags": []
          },
          "execution_count": 47
        }
      ]
    },
    {
      "metadata": {
        "id": "yZbABIjgNMjR",
        "colab_type": "code",
        "outputId": "378ca6e4-0c38-4243-9c73-b7bdf473f0c1",
        "colab": {
          "base_uri": "https://localhost:8080/",
          "height": 34
        }
      },
      "cell_type": "code",
      "source": [
        "len(df[df.Class == 0])"
      ],
      "execution_count": 0,
      "outputs": [
        {
          "output_type": "execute_result",
          "data": {
            "text/plain": [
              "114719"
            ]
          },
          "metadata": {
            "tags": []
          },
          "execution_count": 49
        }
      ]
    },
    {
      "metadata": {
        "id": "GNRQf4dvNSvB",
        "colab_type": "code",
        "outputId": "1b834923-d101-4785-d56b-e8aa92dd5b27",
        "colab": {
          "base_uri": "https://localhost:8080/",
          "height": 34
        }
      },
      "cell_type": "code",
      "source": [
        "len(df[df.Class == 1])"
      ],
      "execution_count": 0,
      "outputs": [
        {
          "output_type": "execute_result",
          "data": {
            "text/plain": [
              "242"
            ]
          },
          "metadata": {
            "tags": []
          },
          "execution_count": 50
        }
      ]
    },
    {
      "metadata": {
        "id": "VrdOwDejNXO1",
        "colab_type": "code",
        "outputId": "6fc444bc-40af-4648-be4c-4e3726db94a5",
        "colab": {
          "base_uri": "https://localhost:8080/",
          "height": 34
        }
      },
      "cell_type": "code",
      "source": [
        "df.Class.unique()"
      ],
      "execution_count": 0,
      "outputs": [
        {
          "output_type": "execute_result",
          "data": {
            "text/plain": [
              "array([ 0.,  1., nan])"
            ]
          },
          "metadata": {
            "tags": []
          },
          "execution_count": 55
        }
      ]
    },
    {
      "metadata": {
        "id": "YSQuZy28Nvzx",
        "colab_type": "code",
        "outputId": "792ee105-bf40-4c6c-9041-f2022e5b6a69",
        "colab": {
          "base_uri": "https://localhost:8080/",
          "height": 1071
        }
      },
      "cell_type": "code",
      "source": [
        "df.V1"
      ],
      "execution_count": 0,
      "outputs": [
        {
          "output_type": "execute_result",
          "data": {
            "text/plain": [
              "0         -1.359807\n",
              "1          1.191857\n",
              "2         -1.358354\n",
              "3         -0.966272\n",
              "4         -1.158233\n",
              "5         -0.425966\n",
              "6          1.229658\n",
              "7         -0.644269\n",
              "8         -0.894286\n",
              "9         -0.338262\n",
              "10         1.449044\n",
              "11         0.384978\n",
              "12         1.249999\n",
              "13         1.069374\n",
              "14        -2.791855\n",
              "15        -0.752417\n",
              "16         1.103215\n",
              "17        -0.436905\n",
              "18        -5.401258\n",
              "19         1.492936\n",
              "20         0.694885\n",
              "21         0.962496\n",
              "22         1.166616\n",
              "23         0.247491\n",
              "24        -1.946525\n",
              "25        -2.074295\n",
              "26         1.173285\n",
              "27         1.322707\n",
              "28        -0.414289\n",
              "29         1.059387\n",
              "            ...    \n",
              "168456     0.031505\n",
              "168457    -0.519421\n",
              "168458     0.910462\n",
              "168459    -0.491039\n",
              "168460     1.894207\n",
              "168461     1.485691\n",
              "168462     2.141920\n",
              "168463    -0.805176\n",
              "168464     2.058574\n",
              "168465    -0.944500\n",
              "168466     2.058747\n",
              "168467    -0.084379\n",
              "168468    -1.514693\n",
              "168469   -18.903968\n",
              "168470     0.255123\n",
              "168471    -0.156298\n",
              "168472    -0.646675\n",
              "168473     0.825483\n",
              "168474    -0.957373\n",
              "168475    -2.414278\n",
              "168476     1.732280\n",
              "168477    -3.700343\n",
              "168478     2.117630\n",
              "168479     1.807824\n",
              "168480     1.933497\n",
              "168481     1.886146\n",
              "168482     1.997443\n",
              "168483    -0.682470\n",
              "168484     1.805469\n",
              "168485     1.390366\n",
              "Name: V1, Length: 168486, dtype: float64"
            ]
          },
          "metadata": {
            "tags": []
          },
          "execution_count": 57
        }
      ]
    },
    {
      "metadata": {
        "id": "8ujPedhLNy2i",
        "colab_type": "code",
        "outputId": "740dfb47-5356-4f95-f8e6-5c09c16d3c27",
        "colab": {
          "base_uri": "https://localhost:8080/",
          "height": 1071
        }
      },
      "cell_type": "code",
      "source": [
        "df['Class']"
      ],
      "execution_count": 0,
      "outputs": [
        {
          "output_type": "execute_result",
          "data": {
            "text/plain": [
              "0         0.0\n",
              "1         0.0\n",
              "2         0.0\n",
              "3         0.0\n",
              "4         0.0\n",
              "5         0.0\n",
              "6         0.0\n",
              "7         0.0\n",
              "8         0.0\n",
              "9         0.0\n",
              "10        0.0\n",
              "11        0.0\n",
              "12        0.0\n",
              "13        0.0\n",
              "14        0.0\n",
              "15        0.0\n",
              "16        0.0\n",
              "17        0.0\n",
              "18        0.0\n",
              "19        0.0\n",
              "20        0.0\n",
              "21        0.0\n",
              "22        0.0\n",
              "23        0.0\n",
              "24        0.0\n",
              "25        0.0\n",
              "26        0.0\n",
              "27        0.0\n",
              "28        0.0\n",
              "29        0.0\n",
              "         ... \n",
              "168456    0.0\n",
              "168457    0.0\n",
              "168458    0.0\n",
              "168459    0.0\n",
              "168460    0.0\n",
              "168461    0.0\n",
              "168462    0.0\n",
              "168463    0.0\n",
              "168464    0.0\n",
              "168465    0.0\n",
              "168466    0.0\n",
              "168467    0.0\n",
              "168468    0.0\n",
              "168469    0.0\n",
              "168470    0.0\n",
              "168471    0.0\n",
              "168472    0.0\n",
              "168473    0.0\n",
              "168474    0.0\n",
              "168475    0.0\n",
              "168476    0.0\n",
              "168477    0.0\n",
              "168478    0.0\n",
              "168479    0.0\n",
              "168480    0.0\n",
              "168481    0.0\n",
              "168482    0.0\n",
              "168483    0.0\n",
              "168484    0.0\n",
              "168485    NaN\n",
              "Name: Class, Length: 168486, dtype: float64"
            ]
          },
          "metadata": {
            "tags": []
          },
          "execution_count": 59
        }
      ]
    },
    {
      "metadata": {
        "id": "LwX_yGdGODAM",
        "colab_type": "code",
        "outputId": "9c4182f2-ea6e-4fa9-b470-d0a5970b5133",
        "colab": {
          "base_uri": "https://localhost:8080/",
          "height": 493
        }
      },
      "cell_type": "code",
      "source": [
        "import pandas as pd\n",
        "from sklearn.ensemble import RandomForestClassifier\n",
        "\n",
        "df = pd.read_csv(\"creditcard.csv\")\n",
        "features = [ f for f in list (df) if f not in [\"Class\", \"Amount\", \"Time\"]]\n",
        "rnd_clf = RandomForestClassifier(n_estimators = 100, criterion = 'entropy', random_state = 0)\n",
        "rnd_clf.fit(df.iloc[:,1:29],df.iloc[:,30])X\n",
        "\n",
        "x, y = (list(x) for x in zip(*sorted(zip(rnd_clf.feature_importances_, df.iloc[:,1:29].columns), reverse = True)))\n",
        "\n",
        "for xe, ye in zip(x, y):\n",
        "    print(ye, \"-\", xe)"
      ],
      "execution_count": 0,
      "outputs": [
        {
          "output_type": "stream",
          "text": [
            "V17 - 0.18240053481425814\n",
            "V14 - 0.14446696639991408\n",
            "V12 - 0.13234432564343263\n",
            "V10 - 0.10144749886503578\n",
            "V11 - 0.07745576059833321\n",
            "V16 - 0.042240973230260374\n",
            "V4 - 0.0389204552302894\n",
            "V3 - 0.03744517002582191\n",
            "V7 - 0.029923253055630834\n",
            "V9 - 0.027871587945440472\n",
            "V18 - 0.020816197155352326\n",
            "V19 - 0.012702062204011521\n",
            "V8 - 0.01204392865413024\n",
            "V21 - 0.01195397426630823\n",
            "V26 - 0.011785187869373942\n",
            "V20 - 0.011574249107405848\n",
            "V1 - 0.011004386133911468\n",
            "V27 - 0.01059821400203368\n",
            "V2 - 0.009946781922962153\n",
            "V6 - 0.008923898903588605\n",
            "V28 - 0.008809189891428816\n",
            "V15 - 0.008688311090286938\n",
            "V5 - 0.008686891678194057\n",
            "V13 - 0.008595315312412704\n",
            "V22 - 0.007961248826809937\n",
            "V25 - 0.007293445325850915\n",
            "V23 - 0.007090864756069252\n",
            "V24 - 0.007009327091452588\n"
          ],
          "name": "stdout"
        }
      ]
    },
    {
      "metadata": {
        "id": "MZ6R4LYn4o_X",
        "colab_type": "code",
        "outputId": "3a3f60a7-7c84-43a6-f895-794bb1876eb0",
        "colab": {
          "base_uri": "https://localhost:8080/",
          "height": 615
        }
      },
      "cell_type": "code",
      "source": [
        "import pandas as pd\n",
        "import graphviz\n",
        "from sklearn.model_selection import train_test_split\n",
        "from sklearn.metrics import confusion_matrix, recall_score, f1_score, precision_score, precision_recall_curve, roc_curve\n",
        "from sklearn import tree\n",
        "from sklearn.preprocessing import scale\n",
        "from sklearn.decomposition import TruncatedSVD\n",
        "from matplotlib import pyplot as plt\n",
        "\n",
        "df = pd.read_csv(\"creditcard.csv\")\n",
        "df = df[['V17','V14','V12','V10','V11','V16','V4','V3','V7','V9','V18','Class']]\n",
        "\n",
        "Y = df['Class']\n",
        "X = df.drop('Class', axis=1)\n",
        "\n",
        "X_train, X_test, Y_train, Y_test = train_test_split(X, Y, test_size=0.33)\n",
        "\n",
        "clf = tree.DecisionTreeClassifier()\n",
        "clf.fit(X_train, Y_train)\n",
        "Y_pred = clf.predict(X_test)\n",
        "\n",
        "dot_data = tree.export_graphviz(clf, out_file=None)\n",
        "\n",
        "graph = graphviz.Source(dot_data)\n",
        "graph.render(\"iris\", view=True)\n",
        "\n",
        "fig = plt.figure(figsize=(15,8))\n",
        "ax1 = fig.add_subplot(1,2,1)\n",
        "ax1.set_xlim([-0.05,1.05])\n",
        "ax1.set_ylim([-0.05,1.05])\n",
        "ax1.set_xlabel('Recall')\n",
        "ax1.set_ylabel('Precision')\n",
        "ax1.set_title('PR Curve')\n",
        "ax1.set_facecolor((0.25, 0.25, 0.25))\n",
        "\n",
        "ax2 = fig.add_subplot(1,2,2)\n",
        "ax2.set_xlim([-0.05,1.05])\n",
        "ax2.set_ylim([-0.05,1.05])\n",
        "ax2.set_xlabel('False Positive Rate')\n",
        "ax2.set_ylabel('True Positive Rate')\n",
        "ax2.set_title('ROC Curve')\n",
        "ax2.set_facecolor((0.25, 0.25, 0.25))\n",
        "\n",
        "pred_prob = clf.predict_proba(X_test)[:, 1]\n",
        "\n",
        "p,r,_ = precision_recall_curve(Y_test, pred_prob)\n",
        "tpr,fpr,_ = roc_curve(Y_test, pred_prob)\n",
        "   \n",
        "ax1.plot(r, p, c='b',label='PR')\n",
        "ax2.plot(tpr, fpr, c='r',label='ROC')\n",
        "\n",
        "ax1.legend(loc='lower left')\n",
        "ax2.legend(loc='lower left')\n",
        "\n",
        "plt.show()\n",
        "\n",
        "print(\"Confusion Matrix \\n\",confusion_matrix(Y_test, Y_pred))\n",
        "print(\"F1_score: \", f1_score(Y_pred, Y_test, average=\"binary\"))\n",
        "print(\"Precision: \", precision_score(Y_pred, Y_test, average=\"binary\"))\n",
        "print(\"Recall: \", recall_score(Y_pred, Y_test, average=\"binary\"))\n"
      ],
      "execution_count": 0,
      "outputs": [
        {
          "output_type": "display_data",
          "data": {
            "image/png": "[encoded data removed]",
            "text/plain": [
              "<Figure size 1080x576 with 2 Axes>"
            ]
          },
          "metadata": {
            "tags": []
          }
        },
        {
          "output_type": "stream",
          "text": [
            "Confusion Matrix \n",
            " [[93777    37]\n",
            " [   43   130]]\n",
            "F1_score:  0.7647058823529412\n",
            "Precision:  0.7514450867052023\n",
            "Recall:  0.7784431137724551\n"
          ],
          "name": "stdout"
        }
      ]
    }
  ]
}